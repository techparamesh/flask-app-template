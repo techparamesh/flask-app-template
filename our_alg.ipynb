{
 "cells": [
  {
   "cell_type": "code",
   "execution_count": null,
   "metadata": {},
   "outputs": [],
   "source": [
    "!wget https://bit.ly/3GYiaed\n",
    "!unzip \"/content/3GYiaed\" -d \"/content/output_folder/\"\n"
   ]
  },
  {
   "cell_type": "code",
   "execution_count": null,
   "metadata": {},
   "outputs": [],
   "source": [
    "!wget https://dl.fbaipublicfiles.com/m2m_100/spm.128k.model\n"
   ]
  },
  {
   "cell_type": "code",
   "execution_count": null,
   "metadata": {},
   "outputs": [],
   "source": [
    "%cd .."
   ]
  },
  {
   "cell_type": "code",
   "execution_count": null,
   "metadata": {},
   "outputs": [],
   "source": [
    "!pip3 install ctranslate2 fairseq sentencepiece langdetect"
   ]
  },
  {
   "cell_type": "code",
   "execution_count": null,
   "metadata": {},
   "outputs": [],
   "source": [
    "import ctranslate2\n",
    "import sentencepiece as spm\n",
    "import logging\n",
    "from langdetect import detect\n"
   ]
  },
  {
   "cell_type": "code",
   "execution_count": null,
   "metadata": {},
   "outputs": [],
   "source": [
    "def setup_logging():\n",
    "    logging.basicConfig(format='%(asctime)s - %(levelname)s - %(message)s', level=logging.INFO)\n",
    "\n",
    "def load_sentencepiece_model(sp_model_path):\n",
    "    sp = spm.SentencePieceProcessor()\n",
    "    try:\n",
    "        sp.load(sp_model_path)\n",
    "    except Exception as e:\n",
    "        logging.error(f\"Failed to load SentencePiece model: {e}\")\n",
    "        raise\n",
    "    return sp\n",
    "\n",
    "def process_file_in_batches(file_path, batch_size):\n",
    "    batch = []\n",
    "    with open(file_path, \"r\", encoding=\"utf-8\") as file:\n",
    "        for line in file:\n",
    "            batch.append(line.strip())\n",
    "            if len(batch) == batch_size:\n",
    "                yield batch\n",
    "                batch = []\n",
    "        if batch:\n",
    "            yield batch\n",
    "\n",
    "def detect_languages(batch):\n",
    "    return [detect(text) for text in batch]\n",
    "\n",
    "def translate_batch(batch, languages, translator, sp, tgt_prefix):\n",
    "    try:\n",
    "        translations = []\n",
    "        for text, lang in zip(batch, languages):\n",
    "            src_prefix = f\"__{lang}__\"\n",
    "            target_prefix = [[tgt_prefix]]\n",
    "            batch_subworded = sp.encode([text], out_type=str)\n",
    "            batch_subworded = [[src_prefix] + sent for sent in batch_subworded]\n",
    "\n",
    "            translation = translator.translate_batch(batch_subworded, batch_type=\"tokens\", max_batch_size=2024, beam_size=5, target_prefix=target_prefix)\n",
    "            translation = translation[0][0]['tokens']\n",
    "            translation_desubword = sp.decode(translation)\n",
    "            translations.append(translation_desubword[len(tgt_prefix):])\n",
    "        return translations\n",
    "    except Exception as e:\n",
    "        logging.error(f\"Error during batch translation: {e}\")\n",
    "        raise\n",
    "\n",
    "def translate_file_to_english(source_file_path, target_file_path, batch_size=1000):\n",
    "    setup_logging()\n",
    "\n",
    "    ct_model_path = \"/content/output_folder/m2m100_12b\"\n",
    "    sp_model_path = \"/content/spm.128k.model\"\n",
    "    tgt_prefix = \"__en__\"\n",
    "    device = \"cpu\"\n",
    "\n",
    "    logging.info(\"Loading SentencePiece model...\")\n",
    "    sp = load_sentencepiece_model(sp_model_path)\n",
    "\n",
    "    logging.info(\"Initializing translator...\")\n",
    "    translator = ctranslate2.Translator(ct_model_path, device=device)\n",
    "\n",
    "    logging.info(\"Processing and translating file in batches...\")\n",
    "    with open(target_file_path, \"w+\", encoding=\"utf-8\") as target_file:\n",
    "        for batch in process_file_in_batches(source_file_path, batch_size):\n",
    "            languages = detect_languages(batch)\n",
    "            translations = translate_batch(batch, languages, translator, sp, tgt_prefix)\n",
    "            for line in translations:\n",
    "                target_file.write(line.strip() + \"\\n\")\n",
    "\n",
    "    logging.info(f\"Done! Target file saved at: {target_file_path}\")\n",
    "\n",
    "translate_file_to_english(\"/content/small_czech.txt\", \"/content/translated_czech.txt\")\n",
    "\n"
   ]
  }
 ],
 "metadata": {
  "language_info": {
   "name": "python"
  }
 },
 "nbformat": 4,
 "nbformat_minor": 2
}
